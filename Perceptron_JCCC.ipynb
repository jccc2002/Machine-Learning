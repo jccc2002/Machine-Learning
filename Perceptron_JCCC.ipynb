{
  "nbformat": 4,
  "nbformat_minor": 0,
  "metadata": {
    "colab": {
      "provenance": [],
      "authorship_tag": "ABX9TyMI2i3bElEae0oabv+dg7M1",
      "include_colab_link": true
    },
    "kernelspec": {
      "name": "python3",
      "display_name": "Python 3"
    },
    "language_info": {
      "name": "python"
    }
  },
  "cells": [
    {
      "cell_type": "markdown",
      "metadata": {
        "id": "view-in-github",
        "colab_type": "text"
      },
      "source": [
        "<a href=\"https://colab.research.google.com/github/jccc2002/Machine-Learning/blob/main/Perceptron_JCCC.ipynb\" target=\"_parent\"><img src=\"https://colab.research.google.com/assets/colab-badge.svg\" alt=\"Open In Colab\"/></a>"
      ]
    },
    {
      "cell_type": "markdown",
      "source": [
        "# ***Intuition behind a perceptron***\n",
        "\n",
        "The peceptron is an algorithm capable of classifying two categories by drawing a straight line that separates the data points meaning that, in the end, the ultimate goal is to obtain a decision boundary that can classify new, unseen data points starting with what has been already seen.\n",
        "\n",
        "The learning of the model starts observations taht will learn as the data comes working as a human brain cell, iteratively adjusting the decisions to minimize classification errors. However, it is important to mention that the perceptron considers each input and a weight deliberately put to make a decision but before doing the prediction that data goes through a function activation where it is contained the bias.\n",
        "\n",
        "Finally, the algoritm will converge once it is repeated a fixed number of iterations or until all data points are classified. So, once the algorithm has converged, the final decision boundary might be used to classify nwe data points.\n",
        "\n",
        "  "
      ],
      "metadata": {
        "id": "fQtKRPkzDqGX"
      }
    },
    {
      "cell_type": "markdown",
      "source": [
        "# ***Pseudocode***\n",
        "\n",
        "1. Load the Iris dataset.\n",
        "2. Preprocess the data:\n",
        "   - Select two out of the three classes for binary classification.\n",
        "   - Split the dataset into training and testing sets.\n",
        "   - Define a class with methods for training and prediction.\n",
        "\n",
        "3. Perceptron Training:\n",
        "   - Initialize the Perceptron model with a learning rate and iterations.\n",
        "   - Initialize model weights and bias to zeros as first step.\n",
        "   - For each iteration in range:\n",
        "      - For each training sample:\n",
        "         - Calculate the net input as the dot product of X train and model weights plus bias.\n",
        "         - Apply the step function to netinput to make a prediction.\n",
        "         - Update the weights and bias using the learning rule.\n",
        "\n",
        "4. Perceptron Prediction:\n",
        "    - For each test sample in X test:\n",
        "       - Calculate the net inputas the dot product of the sample and model weights plus bias.\n",
        "       - Apply the step function to net input to make a prediction.\n",
        "       - Store the prediction in a list.\n",
        "\n",
        "5. Evaluate the model's performance:\n",
        "   - Calculate metrics such as accuracy, precision, recall, or F1-score by comparing the predictions to the true labels in test section.\n"
      ],
      "metadata": {
        "id": "PfIcriMGDqjQ"
      }
    },
    {
      "cell_type": "markdown",
      "source": [
        "#***Code***"
      ],
      "metadata": {
        "id": "8sakmhpjD7AO"
      }
    },
    {
      "cell_type": "code",
      "source": [
        "import numpy as np\n",
        "from sklearn import datasets\n",
        "import matplotlib.pyplot as plt"
      ],
      "metadata": {
        "id": "cOfLoSPbxSJU"
      },
      "execution_count": null,
      "outputs": []
    },
    {
      "cell_type": "code",
      "source": [
        "class Perceptron:\n",
        "    def __init__(self, learning_rate=0.1, n_iterations=100):\n",
        "        self.learning_rate = learning_rate\n",
        "        self.n_iterations = n_iterations\n",
        "\n",
        "    def fit(self, X, y):\n",
        "        n_samples, n_features = X.shape\n",
        "        self.weights = np.zeros(n_features)\n",
        "        self.bias = 0\n",
        "\n",
        "        for _ in range(self.n_iterations):\n",
        "            for i in range(n_samples):\n",
        "                # Calculate the net input\n",
        "                net_input = np.dot(X[i], self.weights) + self.bias\n",
        "                # Apply the step function\n",
        "                if net_input > 0:\n",
        "                    prediction = 1\n",
        "                else:\n",
        "                    prediction = -1\n",
        "                # Update the weights and bias\n",
        "                if y[i] != prediction:\n",
        "                    update = self.learning_rate * y[i]\n",
        "                    self.weights += update * X[i]\n",
        "                    self.bias += update\n",
        "\n",
        "    def predict(self, X):\n",
        "        # Calculate the net input\n",
        "        net_input = np.dot(X, self.weights) + self.bias\n",
        "        # Apply the step function\n",
        "        predictions = np.where(net_input > 0, 1, -1)\n",
        "        return predictions\n",
        "\n",
        "    def optimization_function(self):\n",
        "        return \"Stochastic Gradient Descent (SGD)\"\n",
        "\n",
        "    def hinge_loss(self, X, y):\n",
        "        loss = 0\n",
        "        for i in range(len(X)):\n",
        "            net_input = np.dot(X[i], self.weights) + self.bias\n",
        "            loss += max(0, -y[i] * net_input)\n",
        "        return loss\n"
      ],
      "metadata": {
        "id": "NEYorpIKxT9f"
      },
      "execution_count": null,
      "outputs": []
    },
    {
      "cell_type": "code",
      "source": [
        "# Dataset load\n",
        "iris = datasets.load_iris()\n",
        "X = iris.data\n",
        "y = iris.target\n",
        "\n",
        "X = X[y != 0, :2]\n",
        "y = y[y != 0]\n",
        "y = np.where(y == 1, -1, 1)\n"
      ],
      "metadata": {
        "id": "cya1EA-8xW1z"
      },
      "execution_count": null,
      "outputs": []
    },
    {
      "cell_type": "code",
      "source": [
        "def traintest(X, y, test_size=0.3, random_seed=None):\n",
        "    if random_seed:\n",
        "        np.random.seed(random_seed)\n",
        "\n",
        "    data = list(zip(X, y))\n",
        "    np.random.shuffle(data)\n",
        "\n",
        "    index = int(len(data) * (1 - test_size))\n",
        "    train_data, test_data = data[:index], data[index:]\n",
        "\n",
        "    X_train, y_train = zip(*train_data)\n",
        "    X_test, y_test = zip(*test_data)\n",
        "\n",
        "    return np.array(X_train), np.array(X_test), np.array(y_train), np.array(y_test)\n",
        "\n",
        "\n",
        "X_train, X_test, y_train, y_test = traintest(X, y, test_size=0.3, random_seed=1)\n",
        "\n",
        "perceptron = Perceptron(learning_rate=0.1, n_iterations=100)\n",
        "perceptron.fit(X_train, y_train)"
      ],
      "metadata": {
        "id": "AyHYGQ_XxYoB"
      },
      "execution_count": null,
      "outputs": []
    },
    {
      "cell_type": "code",
      "source": [
        "# Print the Hinge Loss\n",
        "hinge_loss = perceptron.hinge_loss(X_test, y_test)\n",
        "print(f\"Hinge Loss: {hinge_loss:.2f}\")\n",
        "\n",
        "# Print the optimization function used\n",
        "optimization_func = perceptron.optimization_function()\n",
        "print(f\"Optimization Function: {optimization_func}\")\n",
        "\n",
        "# Calculate and print the accuracy\n",
        "predictions = perceptron.predict(X_test)\n",
        "accuracy = np.mean(predictions == y_test)\n",
        "print(f\"Accuracy: {accuracy * 100:.2f}%\")\n"
      ],
      "metadata": {
        "colab": {
          "base_uri": "https://localhost:8080/"
        },
        "id": "C2sUc6ghxaA-",
        "outputId": "01b4aacf-33a6-467a-d0bd-8a17dbf01d06"
      },
      "execution_count": null,
      "outputs": [
        {
          "output_type": "stream",
          "name": "stdout",
          "text": [
            "Hinge Loss: 8.34\n",
            "Optimization Function: Stochastic Gradient Descent (SGD)\n",
            "Accuracy: 63.33%\n"
          ]
        }
      ]
    },
    {
      "cell_type": "code",
      "source": [
        "# Plot the decision boundary\n",
        "def decision_plot(X, y, perceptron, title):\n",
        "    x1_min, x1_max = X[:, 0].min() - 1, X[:, 0].max() + 1\n",
        "    x2_min, x2_max = X[:, 1].min() - 1, X[:, 1].max() + 1\n",
        "\n",
        "    xx1, xx2 = np.meshgrid(np.arange(x1_min, x1_max, 0.01), np.arange(x2_min, x2_max, 0.01))\n",
        "    Z = perceptron.predict(np.c_[xx1.ravel(), xx2.ravel()])\n",
        "    Z = Z.reshape(xx1.shape)\n",
        "\n",
        "    plt.contourf(xx1, xx2, Z, alpha=0.3)\n",
        "    plt.scatter(X[:, 0], X[:, 1], c=y, marker='o')\n",
        "    plt.xlabel('Feature 1')\n",
        "    plt.ylabel('Feature 2')\n",
        "    plt.title(title)\n",
        "    plt.show()\n",
        "\n",
        "decision_plot(X_train, y_train, perceptron, 'Perceptron decision making')"
      ],
      "metadata": {
        "colab": {
          "base_uri": "https://localhost:8080/",
          "height": 472
        },
        "id": "lJ8PWG7Xxbjn",
        "outputId": "d452e50a-eadc-4675-a366-e5e08a93549c"
      },
      "execution_count": null,
      "outputs": [
        {
          "output_type": "display_data",
          "data": {
            "text/plain": [
              "<Figure size 640x480 with 1 Axes>"
            ],
            "image/png": "[encoded data removed]"
          },
          "metadata": {}
        }
      ]
    },
    {
      "cell_type": "code",
      "source": [
        "%%shell\n",
        "jupyter nbconvert --to html /content/Perceptron_JCCC.ipynb"
      ],
      "metadata": {
        "colab": {
          "base_uri": "https://localhost:8080/"
        },
        "id": "N0YE46nZIDs8",
        "outputId": "651bc493-d915-4400-b37a-98922480a068"
      },
      "execution_count": null,
      "outputs": [
        {
          "output_type": "stream",
          "name": "stdout",
          "text": [
            "[NbConvertApp] Converting notebook /content/Perceptron_JCCC.ipynb to html\n",
            "[NbConvertApp] Writing 639360 bytes to /content/Perceptron_JCCC.html\n"
          ]
        },
        {
          "output_type": "execute_result",
          "data": {
            "text/plain": []
          },
          "metadata": {},
          "execution_count": 14
        }
      ]
    }
  ]
}